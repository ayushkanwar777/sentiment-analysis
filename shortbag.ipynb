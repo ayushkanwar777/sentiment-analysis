{
  "cells": [
    {
      "metadata": {
        "_cell_guid": "a65eee3b-ac08-4bc8-a79f-3eb341d02ba3",
        "_uuid": "f247520bde18629d52dae5b9b0a861efe6a0766d",
        "trusted": false,
        "collapsed": true
      },
      "cell_type": "code",
      "source": "# This Python 3 environment comes with many helpful analytics libraries installed\n# It is defined by the kaggle/python docker image: https://github.com/kaggle/docker-python\n# For example, here's several helpful packages to load in \n\nimport numpy as np # linear algebra\nimport pandas as pd # data processing, CSV file I/O (e.g. pd.read_csv)\n\n# Input data files are available in the \"../input/\" directory.\n# For example, running this (by clicking run or pressing Shift+Enter) will list the files in the input directory\n\nfrom subprocess import check_output\nprint(check_output([\"ls\", \"../input\"]).decode(\"utf8\"))\n\n# Any results you write to the current directory are saved as output.",
      "execution_count": null,
      "outputs": []
    },
    {
      "metadata": {
        "_uuid": "a19db02445d500622926877d856961faf7ddfef4",
        "_cell_guid": "8a9ed7bc-d7e2-4be2-9072-47caa45dbf9b",
        "collapsed": true,
        "trusted": false
      },
      "cell_type": "code",
      "source": "df = pd.read_csv('../input/labeledTrainData.tsv', sep='\\t',escapechar='\\\\')",
      "execution_count": null,
      "outputs": []
    },
    {
      "metadata": {
        "_cell_guid": "c415f322-b83c-49c2-b72a-09ce7a28484c",
        "_uuid": "44005c4c37d896ec01d2e799c2d49b322eef04dd",
        "trusted": false,
        "collapsed": true
      },
      "cell_type": "code",
      "source": "df[\"review\"].head()",
      "execution_count": null,
      "outputs": []
    },
    {
      "metadata": {
        "_uuid": "dc2215296fc109e1ab5783764641b3c3dbdd484b",
        "_cell_guid": "e43a6434-7c58-44c5-a206-9dc0ef0a0c46",
        "collapsed": true,
        "trusted": false
      },
      "cell_type": "code",
      "source": "from bs4 import BeautifulSoup\ndef clean_text(text):\n    text = BeautifulSoup(text, 'html.parser').get_text()\n    return text",
      "execution_count": null,
      "outputs": []
    },
    {
      "metadata": {
        "_cell_guid": "7cecc91a-8e5d-4509-8bf7-93a086fbcfad",
        "_uuid": "982c587ee54d6dbd205d0a6de72222704746a392",
        "trusted": false,
        "collapsed": true
      },
      "cell_type": "code",
      "source": "df[\"clean_review\"] = df.review.apply(clean_text)\ndf.head()",
      "execution_count": null,
      "outputs": []
    },
    {
      "metadata": {
        "_cell_guid": "36349f54-d446-4ce9-8001-8c6eb6e4a6a9",
        "_uuid": "b63f24f085515f107c742f44f3110371a966c71b",
        "trusted": false,
        "collapsed": true
      },
      "cell_type": "code",
      "source": "from sklearn.feature_extraction.text import TfidfVectorizer\nfrom sklearn.naive_bayes import MultinomialNB\nfrom sklearn.feature_extraction import text\ntf_vec = TfidfVectorizer(lowercase=1,min_df=0.001,stop_words=text.ENGLISH_STOP_WORDS)\nX_voc = df[\"clean_review\"].values\ntf_vec.fit(X_voc)",
      "execution_count": null,
      "outputs": []
    },
    {
      "metadata": {
        "_uuid": "75ad67ec5d7896652cc94ed318ae7a4ce23401f4",
        "_cell_guid": "b482c47a-8640-4380-8625-7dff3693c6b1",
        "collapsed": true,
        "trusted": false
      },
      "cell_type": "code",
      "source": "X_train = df[\"clean_review\"][0:20000].values  \nX_tf =  tf_vec.transform(X_train)",
      "execution_count": null,
      "outputs": []
    },
    {
      "metadata": {
        "_cell_guid": "da21a35b-411a-4099-94ef-0f4db4aea224",
        "_uuid": "425ca6dbb0f18cd59dd3fb0c3ef92ccb12c7c3d8",
        "trusted": false,
        "collapsed": true
      },
      "cell_type": "code",
      "source": "X_tf.shape",
      "execution_count": null,
      "outputs": []
    },
    {
      "metadata": {
        "_cell_guid": "55fcddf5-3420-46ef-b509-ecb92d213835",
        "_uuid": "db7cfb6414eb5a08e37a29fefc95fa211ee6e710",
        "trusted": false,
        "collapsed": true
      },
      "cell_type": "code",
      "source": "clf = MultinomialNB()\ntarget = df[\"sentiment\"][0:20000].values\nclf.fit(X_tf,target)\n",
      "execution_count": null,
      "outputs": []
    },
    {
      "metadata": {
        "_cell_guid": "95b913ca-8c49-4a76-8fa7-89b2f91ed15e",
        "_uuid": "3b02af99901430a96f95ceaffc3cb53c7249dc64",
        "trusted": false,
        "collapsed": true
      },
      "cell_type": "code",
      "source": "X_test = df[\"clean_review\"][20000:25000].values.astype(\"U\")\ntest_x_tf = tf_vec.transform(X_test)\nY_test = df[\"sentiment\"][20000:25000]\nclf.score(test_x_tf,Y_test)",
      "execution_count": null,
      "outputs": []
    },
    {
      "metadata": {
        "_uuid": "6519b4e33ead75bd05aef3a20ee870d3d2813099",
        "_cell_guid": "ad4d4e46-8ef9-4807-8d11-ad947e7a99d0",
        "collapsed": true,
        "trusted": false
      },
      "cell_type": "code",
      "source": "",
      "execution_count": null,
      "outputs": []
    }
  ],
  "metadata": {
    "kernelspec": {
      "display_name": "Python 3",
      "language": "python",
      "name": "python3"
    },
    "language_info": {
      "name": "python",
      "version": "3.6.5",
      "mimetype": "text/x-python",
      "codemirror_mode": {
        "name": "ipython",
        "version": 3
      },
      "pygments_lexer": "ipython3",
      "nbconvert_exporter": "python",
      "file_extension": ".py"
    }
  },
  "nbformat": 4,
  "nbformat_minor": 1
}