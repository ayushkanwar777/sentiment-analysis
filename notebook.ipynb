{
  "cells": [
    {
      "metadata": {
        "_uuid": "51dd86604324618416f1cd89bf2819ce8f8308fc",
        "_cell_guid": "ab60c73d-bb62-4216-a2ef-c06324ae864b",
        "_execution_state": "idle"
      },
      "cell_type": "markdown",
      "source": "### Implementation of Random Forest along with bag of words model using tfidf for feature extraction"
    },
    {
      "metadata": {
        "_uuid": "4c4dcaeb75dde22e3603fe370cbfddb966c0dd5b",
        "_cell_guid": "4907bd58-f7a5-48d2-aa08-426e06c01c84",
        "_execution_state": "idle",
        "trusted": false,
        "collapsed": true
      },
      "cell_type": "code",
      "source": "from sklearn.utils import shuffle\nimport pandas as pd  \n\ntrain = pd.read_csv(\"../input/labeledTrainData.tsv\",  delimiter=\"\\t\", quoting=3, header=0)\n\ntrain = shuffle(train)",
      "execution_count": null,
      "outputs": []
    },
    {
      "metadata": {
        "_uuid": "b455065bd241cbd63387f41f39a5b2c53a6c91ce",
        "_cell_guid": "46ef25ae-05e3-41d5-8c0e-d850ccfae0b9",
        "_execution_state": "idle",
        "trusted": false
      },
      "cell_type": "code",
      "source": "train.shape",
      "execution_count": null,
      "outputs": []
    },
    {
      "metadata": {
        "_uuid": "33e8ed509f3bda2968fadc4338999785808796a8",
        "_cell_guid": "6897ffc2-d92b-49a8-86c5-51c6916cd5ae",
        "_execution_state": "idle",
        "trusted": false
      },
      "cell_type": "code",
      "source": "train",
      "execution_count": null,
      "outputs": []
    },
    {
      "metadata": {
        "_uuid": "49965a0d5317a2c243acc60d1283797c570ac826",
        "_cell_guid": "e67f0c58-d96b-40bf-81cf-5f541f04bbe6",
        "_execution_state": "idle",
        "trusted": false
      },
      "cell_type": "code",
      "source": "from bs4 import BeautifulSoup \nimport lxml\nimport re\nfrom nltk.corpus import stopwords ",
      "execution_count": null,
      "outputs": []
    },
    {
      "metadata": {
        "_uuid": "8799e45a7dc4ec811dad2fbac2f78b802324b9f7",
        "_cell_guid": "c712fef6-fc67-473b-87aa-7cda74bbb403",
        "_execution_state": "idle",
        "trusted": false
      },
      "cell_type": "code",
      "source": "def review_to_words( raw_review ):\n    review_text = BeautifulSoup(raw_review, \"html.parser\").get_text()        \n    letters_only = re.sub(\"[^a-zA-Z]\", \" \", review_text) \n    words = letters_only.lower().split()                             \n    stops = set(stopwords.words(\"english\"))                  \n    meaningful_words = [w for w in words if not w in stops]   \n    return( \" \".join( meaningful_words )) ",
      "execution_count": null,
      "outputs": []
    },
    {
      "metadata": {
        "_uuid": "0b29865e53f79f80c3576c295caea05c81741686",
        "_cell_guid": "a431fd76-cc46-48bc-a102-761cefd2fe45",
        "_execution_state": "idle",
        "trusted": false
      },
      "cell_type": "code",
      "source": "clean_train_reviews = []\nfor r in train['review']:\n    clean_train_reviews.append(review_to_words(r))",
      "execution_count": null,
      "outputs": []
    },
    {
      "metadata": {
        "_uuid": "5f88c2d092e872308a30aa0b664a4885dccafb5c",
        "_cell_guid": "f4e9c4bf-5d26-439a-bbc6-8d2ca5517885",
        "_execution_state": "idle",
        "trusted": false
      },
      "cell_type": "code",
      "source": "len(clean_train_reviews)",
      "execution_count": null,
      "outputs": []
    },
    {
      "metadata": {
        "_uuid": "86a82974249486a1dbb674282168333aa665935e",
        "_cell_guid": "cbf92ee4-6c95-4955-b100-e085a9759642",
        "_execution_state": "idle",
        "trusted": false
      },
      "cell_type": "code",
      "source": "from sklearn.feature_extraction.text import CountVectorizer\nfrom sklearn.feature_extraction.text import TfidfTransformer\n\nvectorizer = CountVectorizer(analyzer = \"word\",   \\\n                             tokenizer = None,    \\\n                             preprocessor = None, \\\n                             stop_words = None,   \\\n                             max_features = 5000) \n\ntrain_data_features = vectorizer.fit_transform(clean_train_reviews)\n\ntransformer = TfidfTransformer(smooth_idf=False)\n\ntfidf = transformer.fit_transform(train_data_features)\n",
      "execution_count": null,
      "outputs": []
    },
    {
      "metadata": {
        "_uuid": "74ecf6ccc9d13fbd5da4c891e59be6f6bfa1cb77",
        "_cell_guid": "96eca1d7-a329-4893-af9c-e4a8b5319629",
        "_execution_state": "idle",
        "trusted": false
      },
      "cell_type": "code",
      "source": "train_x = tfidf[:2000]\ntrain_y = train['sentiment'][:2000]\n\ntest_x = tfidf[2000:]\ntest_y = train['sentiment'][2000:]",
      "execution_count": null,
      "outputs": []
    },
    {
      "metadata": {
        "_uuid": "51a50af77da1e9c3b570707bbe102b78033b8f8c",
        "_cell_guid": "7a303934-df40-4aa5-805d-1c95be0af27b",
        "_execution_state": "idle",
        "trusted": false
      },
      "cell_type": "code",
      "source": "from sklearn.ensemble import RandomForestClassifier\nfrom sklearn.neural_network import BernoulliRBM\n\nclf = RandomForestClassifier(n_estimators = 200) \nclf = clf.fit(train_x, train_y)",
      "execution_count": null,
      "outputs": []
    },
    {
      "metadata": {
        "_execution_state": "idle",
        "_cell_guid": "f69a350f-ae72-4d18-bb0b-c1d3974a61d8",
        "_uuid": "aba395933462edbfb6ac278bf53d5360aaea0e65",
        "trusted": false
      },
      "cell_type": "code",
      "source": "train_y",
      "execution_count": null,
      "outputs": []
    },
    {
      "metadata": {
        "_uuid": "20837d95585688a9a3e81d397448f1ffe84f1d13",
        "_cell_guid": "a7434d26-ad2b-4a08-afa7-38fbb8b6172a",
        "_execution_state": "idle",
        "trusted": false
      },
      "cell_type": "code",
      "source": "print(\"Mean Accuracy:\")\nprint(clf.score(test_x, test_y))",
      "execution_count": null,
      "outputs": []
    },
    {
      "metadata": {
        "_uuid": "e2bcf5bcef2e3bf9222564448966e3d70bbc6578",
        "_cell_guid": "be874a8c-5296-4b97-8dd0-a571fda400fb",
        "_execution_state": "idle",
        "trusted": false
      },
      "cell_type": "code",
      "source": "",
      "execution_count": null,
      "outputs": []
    }
  ],
  "metadata": {
    "language_info": {
      "name": "python",
      "version": "3.6.5",
      "mimetype": "text/x-python",
      "codemirror_mode": {
        "name": "ipython",
        "version": 3
      },
      "pygments_lexer": "ipython3",
      "nbconvert_exporter": "python",
      "file_extension": ".py"
    },
    "kernelspec": {
      "display_name": "Python 3",
      "language": "python",
      "name": "python3"
    }
  },
  "nbformat": 4,
  "nbformat_minor": 1
}